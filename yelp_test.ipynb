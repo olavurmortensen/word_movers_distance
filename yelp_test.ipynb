{
 "cells": [
  {
   "cell_type": "code",
   "execution_count": 1,
   "metadata": {
    "collapsed": true
   },
   "outputs": [],
   "source": [
    "import numpy as np\n",
    "import pickle\n",
    "from WMD_pyemd import WMD\n",
    "import json\n",
    "import nltk\n",
    "from gensim.models import Word2Vec"
   ]
  },
  {
   "cell_type": "code",
   "execution_count": 4,
   "metadata": {
    "collapsed": false
   },
   "outputs": [],
   "source": [
    "# Load some text data.\n",
    "n_lines = 10000\n",
    "stopwords = nltk.corpus.stopwords.words()\n",
    "documents = []\n",
    "with open('../yelp_dataset_challenge_academic_dataset/yelp_academic_dataset_review.json') as data_file:\n",
    "    for i, line in enumerate(data_file):\n",
    "        if i == n_lines:\n",
    "            break\n",
    "        text = json_line['text'].lower()  # Lower the text.\n",
    "        text = nltk.word_tokenize(text)  # Split into words.\n",
    "        text = [w for w in text if not w in stopwords]  # Remove stopwords.\n",
    "        text = [w for w in text if w.isalpha()]  # Remove numbers and punctuation.\n",
    "        documents.append(text)"
   ]
  },
  {
   "cell_type": "code",
   "execution_count": 5,
   "metadata": {
    "collapsed": true
   },
   "outputs": [],
   "source": [
    "# Train word2vec model.\n",
    "model = Word2Vec(documents)"
   ]
  },
  {
   "cell_type": "code",
   "execution_count": null,
   "metadata": {
    "collapsed": false
   },
   "outputs": [],
   "source": [
    "# Find some negative reviews.\n",
    "text = 'this place was awful everything was so terrible it was so bad'.split()\n",
    "\n",
    "N = 100\n",
    "D = np.zeros((N,))\n",
    "for i, d in enumerate(documents[:N]):\n",
    "    D[i] = WMD(text, d, model)"
   ]
  },
  {
   "cell_type": "code",
   "execution_count": 14,
   "metadata": {
    "collapsed": false
   },
   "outputs": [
    {
     "name": "stdout",
     "output_type": "stream",
     "text": [
      "goldberg offers everything look general practitioner nice easy talk without patronizing always time seeing patients affiliated hospital nyu parents explained important case something happens need surgery get referrals see specialists without see first really need sitting trying think complaints really drawing blank\n",
      "\n",
      "got letter mail last week said goldberg moving arizona take new position june missed much think finding new doctor nyc actually like might almost awful trying find date\n",
      "\n",
      "know goldberg like moving arizona let tell stay away doctor office going johnson left goldberg took johnson left caring doctor interested medication refills every month give refills could less patients financial situations trying get days mail away pharmacy prescriptions guy joke make matters even worse office staff incompetent time call office put voice mail one ever answers returns call adult children husband decided leave practice experiencing frustration entire office attitude like favor give break stay away doc practice deserve better really need never felt compelled write bad review anyone pathetic excuse doctor money\n",
      "\n",
      "unfortunately frustration goldberg patient repeat experience many doctors nyc good doctor terrible staff seems staff simply never answers phone usually takes hours repeated calling get answer time wants deal run problem many doctors get office workers patients medical needs anyone answering phone incomprehensible work aggravation regret feel give goldberg stars\n",
      "\n",
      "going goldberg years think one patients started mhmg great years really big picture former gyn markoff found fibroids explores options patient understanding judge asks right questions thorough wants kept loop every aspect medical health life\n",
      "\n"
     ]
    }
   ],
   "source": [
    "for i in np.argsort(D)[:5]:\n",
    "    print ' '.join(documents[i])\n",
    "    print"
   ]
  },
  {
   "cell_type": "code",
   "execution_count": null,
   "metadata": {
    "collapsed": true
   },
   "outputs": [],
   "source": []
  }
 ],
 "metadata": {
  "kernelspec": {
   "display_name": "Python 2",
   "language": "python",
   "name": "python2"
  },
  "language_info": {
   "codemirror_mode": {
    "name": "ipython",
    "version": 2
   },
   "file_extension": ".py",
   "mimetype": "text/x-python",
   "name": "python",
   "nbconvert_exporter": "python",
   "pygments_lexer": "ipython2",
   "version": "2.7.6"
  }
 },
 "nbformat": 4,
 "nbformat_minor": 0
}
