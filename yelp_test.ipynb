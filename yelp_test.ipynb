{
 "cells": [
  {
   "cell_type": "code",
   "execution_count": 6,
   "metadata": {
    "collapsed": true
   },
   "outputs": [],
   "source": [
    "import numpy as np\n",
    "import json\n",
    "from nltk.corpus import stopwords\n",
    "from nltk import word_tokenize\n",
    "from gensim.models import Word2Vec"
   ]
  },
  {
   "cell_type": "code",
   "execution_count": 7,
   "metadata": {
    "collapsed": false
   },
   "outputs": [],
   "source": [
    "# Load some text data.\n",
    "n_lines = 100000\n",
    "stop_words = stopwords.words(fileids='english')\n",
    "documents = []\n",
    "with open('../yelp_dataset_challenge_academic_dataset/yelp_academic_dataset_review.json') as data_file:\n",
    "    for i, line in enumerate(data_file):\n",
    "        if i == n_lines:\n",
    "            break\n",
    "        json_line = json.loads(line)\n",
    "        text = json_line['text'].lower()  # Lower the text.\n",
    "        text = word_tokenize(text)  # Split into words.\n",
    "        text = [w for w in text if not w in stop_words]  # Remove stopwords.\n",
    "        text = [w for w in text if w.isalpha()]  # Remove numbers and punctuation.\n",
    "        documents.append(text)"
   ]
  },
  {
   "cell_type": "code",
   "execution_count": 9,
   "metadata": {
    "collapsed": true
   },
   "outputs": [],
   "source": [
    "# Train word2vec model.\n",
    "model = Word2Vec(documents, workers=3)"
   ]
  },
  {
   "cell_type": "code",
   "execution_count": 40,
   "metadata": {
    "collapsed": false
   },
   "outputs": [
    {
     "name": "stdout",
     "output_type": "stream",
     "text": [
      "2.39178774332\n"
     ]
    }
   ],
   "source": [
    "# Some sentences to test.\n",
    "sentence1 = 'the bread is very good'.lower().split()\n",
    "sentence2 = 'the cake was quite nice'.lower().split()\n",
    "\n",
    "# Remove their stopwords.\n",
    "sentence1 = [w for w in sentence1 if w not in stop_words]\n",
    "sentence2 = [w for w in sentence2 if w not in stop_words]\n",
    "\n",
    "# Compute WMD.\n",
    "distance = model.wmdistance(sentence1, sentence2)\n",
    "\n",
    "print distance"
   ]
  },
  {
   "cell_type": "code",
   "execution_count": 41,
   "metadata": {
    "collapsed": false
   },
   "outputs": [
    {
     "name": "stdout",
     "output_type": "stream",
     "text": [
      "2.02345989616\n"
     ]
    }
   ],
   "source": [
    "# Some sentences to test.\n",
    "sentence1 = 'the pastry is very good'.lower().split()\n",
    "sentence2 = 'the cake was quite nice'.lower().split()\n",
    "\n",
    "# Remove their stopwords.\n",
    "sentence1 = [w for w in sentence1 if w not in stop_words]\n",
    "sentence2 = [w for w in sentence2 if w not in stop_words]\n",
    "\n",
    "# Compute WMD.\n",
    "distance = model.wmdistance(sentence1, sentence2)\n",
    "\n",
    "print distance"
   ]
  },
  {
   "cell_type": "code",
   "execution_count": null,
   "metadata": {
    "collapsed": true
   },
   "outputs": [],
   "source": []
  }
 ],
 "metadata": {
  "kernelspec": {
   "display_name": "Python 2",
   "language": "python",
   "name": "python2"
  },
  "language_info": {
   "codemirror_mode": {
    "name": "ipython",
    "version": 2
   },
   "file_extension": ".py",
   "mimetype": "text/x-python",
   "name": "python",
   "nbconvert_exporter": "python",
   "pygments_lexer": "ipython2",
   "version": "2.7.6"
  }
 },
 "nbformat": 4,
 "nbformat_minor": 0
}
